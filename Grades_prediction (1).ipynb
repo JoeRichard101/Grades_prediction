{
  "nbformat": 4,
  "nbformat_minor": 0,
  "metadata": {
    "colab": {
      "name": "Grades_prediction.ipynb",
      "provenance": [],
      "collapsed_sections": []
    },
    "kernelspec": {
      "display_name": "Python 3",
      "name": "python3"
    }
  },
  "cells": [
    {
      "cell_type": "code",
      "metadata": {
        "id": "rkB3z5uHM41l"
      },
      "source": [
        "from keras.models import Sequential\r\n",
        "from keras.layers import Dense\r\n",
        "import pandas as pd\r\n",
        "from sklearn.model_selection import train_test_split"
      ],
      "execution_count": null,
      "outputs": []
    },
    {
      "cell_type": "code",
      "metadata": {
        "id": "t_aOOtN5M-FT"
      },
      "source": [
        "dataset = pd.read_csv('sg.csv')\r\n",
        "dataset1=dataset.to_numpy()\r\n",
        "x = dataset1[:,0:7]\r\n",
        "y = dataset1[:,7]"
      ],
      "execution_count": null,
      "outputs": []
    },
    {
      "cell_type": "code",
      "metadata": {
        "colab": {
          "base_uri": "https://localhost:8080/",
          "height": 638
        },
        "id": "8YCfLLHeX1DX",
        "outputId": "76d27d0c-5358-41e8-cc2e-b8f63285802b"
      },
      "source": [
        "dataset"
      ],
      "execution_count": null,
      "outputs": [
        {
          "output_type": "execute_result",
          "data": {
            "text/html": [
              "<div>\n",
              "<style scoped>\n",
              "    .dataframe tbody tr th:only-of-type {\n",
              "        vertical-align: middle;\n",
              "    }\n",
              "\n",
              "    .dataframe tbody tr th {\n",
              "        vertical-align: top;\n",
              "    }\n",
              "\n",
              "    .dataframe thead th {\n",
              "        text-align: right;\n",
              "    }\n",
              "</style>\n",
              "<table border=\"1\" class=\"dataframe\">\n",
              "  <thead>\n",
              "    <tr style=\"text-align: right;\">\n",
              "      <th></th>\n",
              "      <th>1stsem</th>\n",
              "      <th>2ndsem</th>\n",
              "      <th>3rdsem</th>\n",
              "      <th>4thsem</th>\n",
              "      <th>5thsem</th>\n",
              "      <th>6thsem</th>\n",
              "      <th>7thsem</th>\n",
              "      <th>outcome</th>\n",
              "    </tr>\n",
              "  </thead>\n",
              "  <tbody>\n",
              "    <tr>\n",
              "      <th>0</th>\n",
              "      <td>1</td>\n",
              "      <td>2</td>\n",
              "      <td>3</td>\n",
              "      <td>2</td>\n",
              "      <td>2</td>\n",
              "      <td>2</td>\n",
              "      <td>3</td>\n",
              "      <td>0</td>\n",
              "    </tr>\n",
              "    <tr>\n",
              "      <th>1</th>\n",
              "      <td>4</td>\n",
              "      <td>3</td>\n",
              "      <td>3</td>\n",
              "      <td>3</td>\n",
              "      <td>4</td>\n",
              "      <td>4</td>\n",
              "      <td>4</td>\n",
              "      <td>1</td>\n",
              "    </tr>\n",
              "    <tr>\n",
              "      <th>2</th>\n",
              "      <td>4</td>\n",
              "      <td>4</td>\n",
              "      <td>4</td>\n",
              "      <td>4</td>\n",
              "      <td>4</td>\n",
              "      <td>4</td>\n",
              "      <td>4</td>\n",
              "      <td>1</td>\n",
              "    </tr>\n",
              "    <tr>\n",
              "      <th>3</th>\n",
              "      <td>2</td>\n",
              "      <td>2</td>\n",
              "      <td>3</td>\n",
              "      <td>2</td>\n",
              "      <td>2</td>\n",
              "      <td>3</td>\n",
              "      <td>3</td>\n",
              "      <td>0</td>\n",
              "    </tr>\n",
              "    <tr>\n",
              "      <th>4</th>\n",
              "      <td>2</td>\n",
              "      <td>2</td>\n",
              "      <td>2</td>\n",
              "      <td>2</td>\n",
              "      <td>3</td>\n",
              "      <td>3</td>\n",
              "      <td>3</td>\n",
              "      <td>0</td>\n",
              "    </tr>\n",
              "    <tr>\n",
              "      <th>5</th>\n",
              "      <td>3</td>\n",
              "      <td>2</td>\n",
              "      <td>2</td>\n",
              "      <td>3</td>\n",
              "      <td>3</td>\n",
              "      <td>2</td>\n",
              "      <td>3</td>\n",
              "      <td>0</td>\n",
              "    </tr>\n",
              "    <tr>\n",
              "      <th>6</th>\n",
              "      <td>4</td>\n",
              "      <td>4</td>\n",
              "      <td>3</td>\n",
              "      <td>4</td>\n",
              "      <td>4</td>\n",
              "      <td>4</td>\n",
              "      <td>4</td>\n",
              "      <td>1</td>\n",
              "    </tr>\n",
              "    <tr>\n",
              "      <th>7</th>\n",
              "      <td>4</td>\n",
              "      <td>4</td>\n",
              "      <td>4</td>\n",
              "      <td>4</td>\n",
              "      <td>4</td>\n",
              "      <td>3</td>\n",
              "      <td>3</td>\n",
              "      <td>1</td>\n",
              "    </tr>\n",
              "    <tr>\n",
              "      <th>8</th>\n",
              "      <td>3</td>\n",
              "      <td>3</td>\n",
              "      <td>3</td>\n",
              "      <td>4</td>\n",
              "      <td>4</td>\n",
              "      <td>3</td>\n",
              "      <td>3</td>\n",
              "      <td>1</td>\n",
              "    </tr>\n",
              "    <tr>\n",
              "      <th>9</th>\n",
              "      <td>4</td>\n",
              "      <td>3</td>\n",
              "      <td>3</td>\n",
              "      <td>4</td>\n",
              "      <td>4</td>\n",
              "      <td>4</td>\n",
              "      <td>3</td>\n",
              "      <td>1</td>\n",
              "    </tr>\n",
              "    <tr>\n",
              "      <th>10</th>\n",
              "      <td>3</td>\n",
              "      <td>3</td>\n",
              "      <td>4</td>\n",
              "      <td>4</td>\n",
              "      <td>3</td>\n",
              "      <td>3</td>\n",
              "      <td>3</td>\n",
              "      <td>1</td>\n",
              "    </tr>\n",
              "    <tr>\n",
              "      <th>11</th>\n",
              "      <td>2</td>\n",
              "      <td>3</td>\n",
              "      <td>3</td>\n",
              "      <td>2</td>\n",
              "      <td>4</td>\n",
              "      <td>4</td>\n",
              "      <td>4</td>\n",
              "      <td>0</td>\n",
              "    </tr>\n",
              "    <tr>\n",
              "      <th>12</th>\n",
              "      <td>3</td>\n",
              "      <td>2</td>\n",
              "      <td>2</td>\n",
              "      <td>2</td>\n",
              "      <td>2</td>\n",
              "      <td>3</td>\n",
              "      <td>2</td>\n",
              "      <td>0</td>\n",
              "    </tr>\n",
              "    <tr>\n",
              "      <th>13</th>\n",
              "      <td>1</td>\n",
              "      <td>3</td>\n",
              "      <td>3</td>\n",
              "      <td>3</td>\n",
              "      <td>3</td>\n",
              "      <td>3</td>\n",
              "      <td>2</td>\n",
              "      <td>0</td>\n",
              "    </tr>\n",
              "    <tr>\n",
              "      <th>14</th>\n",
              "      <td>3</td>\n",
              "      <td>3</td>\n",
              "      <td>3</td>\n",
              "      <td>2</td>\n",
              "      <td>3</td>\n",
              "      <td>3</td>\n",
              "      <td>3</td>\n",
              "      <td>0</td>\n",
              "    </tr>\n",
              "    <tr>\n",
              "      <th>15</th>\n",
              "      <td>3</td>\n",
              "      <td>4</td>\n",
              "      <td>4</td>\n",
              "      <td>3</td>\n",
              "      <td>4</td>\n",
              "      <td>4</td>\n",
              "      <td>3</td>\n",
              "      <td>1</td>\n",
              "    </tr>\n",
              "    <tr>\n",
              "      <th>16</th>\n",
              "      <td>3</td>\n",
              "      <td>3</td>\n",
              "      <td>3</td>\n",
              "      <td>4</td>\n",
              "      <td>4</td>\n",
              "      <td>2</td>\n",
              "      <td>3</td>\n",
              "      <td>1</td>\n",
              "    </tr>\n",
              "    <tr>\n",
              "      <th>17</th>\n",
              "      <td>4</td>\n",
              "      <td>4</td>\n",
              "      <td>3</td>\n",
              "      <td>4</td>\n",
              "      <td>4</td>\n",
              "      <td>3</td>\n",
              "      <td>4</td>\n",
              "      <td>1</td>\n",
              "    </tr>\n",
              "    <tr>\n",
              "      <th>18</th>\n",
              "      <td>4</td>\n",
              "      <td>4</td>\n",
              "      <td>4</td>\n",
              "      <td>4</td>\n",
              "      <td>4</td>\n",
              "      <td>3</td>\n",
              "      <td>3</td>\n",
              "      <td>1</td>\n",
              "    </tr>\n",
              "  </tbody>\n",
              "</table>\n",
              "</div>"
            ],
            "text/plain": [
              "    1stsem  2ndsem  3rdsem  4thsem  5thsem  6thsem  7thsem  outcome\n",
              "0        1       2       3       2       2       2       3        0\n",
              "1        4       3       3       3       4       4       4        1\n",
              "2        4       4       4       4       4       4       4        1\n",
              "3        2       2       3       2       2       3       3        0\n",
              "4        2       2       2       2       3       3       3        0\n",
              "5        3       2       2       3       3       2       3        0\n",
              "6        4       4       3       4       4       4       4        1\n",
              "7        4       4       4       4       4       3       3        1\n",
              "8        3       3       3       4       4       3       3        1\n",
              "9        4       3       3       4       4       4       3        1\n",
              "10       3       3       4       4       3       3       3        1\n",
              "11       2       3       3       2       4       4       4        0\n",
              "12       3       2       2       2       2       3       2        0\n",
              "13       1       3       3       3       3       3       2        0\n",
              "14       3       3       3       2       3       3       3        0\n",
              "15       3       4       4       3       4       4       3        1\n",
              "16       3       3       3       4       4       2       3        1\n",
              "17       4       4       3       4       4       3       4        1\n",
              "18       4       4       4       4       4       3       3        1"
            ]
          },
          "metadata": {
            "tags": []
          },
          "execution_count": 105
        }
      ]
    },
    {
      "cell_type": "code",
      "metadata": {
        "colab": {
          "background_save": true
        },
        "id": "ueMVPgRdN5Px"
      },
      "source": [
        "model = Sequential()\r\n",
        "model.add(Dense(8, input_dim=7, activation='sigmoid'))\r\n",
        "model.add(Dense(4, activation='sigmoid'))\r\n",
        "model.add(Dense(1, activation='relu'))"
      ],
      "execution_count": null,
      "outputs": []
    },
    {
      "cell_type": "code",
      "metadata": {
        "id": "swoOPfZfgmfV"
      },
      "source": [
        "x_train,x_test,y_train,y_test=train_test_split(x,y,test_size=0.33,random_state=4)"
      ],
      "execution_count": null,
      "outputs": []
    },
    {
      "cell_type": "code",
      "metadata": {
        "id": "jVLvz5DLOCYa"
      },
      "source": [
        "model.compile(loss='binary_crossentropy', optimizer='adam', metrics=['accuracy'])"
      ],
      "execution_count": null,
      "outputs": []
    },
    {
      "cell_type": "code",
      "metadata": {
        "colab": {
          "base_uri": "https://localhost:8080/"
        },
        "id": "j-oNwqRpOHdC",
        "outputId": "40c6db0c-b483-4b26-d260-851c520ebd54"
      },
      "source": [
        "model.fit(x_train, y_train, epochs=150, batch_size=10,validation_data=(x_test,y_test),verbose=1)"
      ],
      "execution_count": null,
      "outputs": [
        {
          "output_type": "stream",
          "text": [
            "Epoch 1/150\n",
            "2/2 [==============================] - 0s 82ms/step - loss: 0.6338 - accuracy: 0.6667 - val_loss: 0.7252 - val_accuracy: 0.4286\n",
            "Epoch 2/150\n",
            "2/2 [==============================] - 0s 41ms/step - loss: 0.6335 - accuracy: 0.6667 - val_loss: 0.7267 - val_accuracy: 0.4286\n",
            "Epoch 3/150\n",
            "2/2 [==============================] - 0s 38ms/step - loss: 0.6331 - accuracy: 0.6667 - val_loss: 0.7286 - val_accuracy: 0.4286\n",
            "Epoch 4/150\n",
            "2/2 [==============================] - 0s 40ms/step - loss: 0.6332 - accuracy: 0.6667 - val_loss: 0.7305 - val_accuracy: 0.4286\n",
            "Epoch 5/150\n",
            "2/2 [==============================] - 0s 40ms/step - loss: 0.6325 - accuracy: 0.6667 - val_loss: 0.7322 - val_accuracy: 0.4286\n",
            "Epoch 6/150\n",
            "2/2 [==============================] - 0s 40ms/step - loss: 0.6322 - accuracy: 0.6667 - val_loss: 0.7342 - val_accuracy: 0.4286\n",
            "Epoch 7/150\n",
            "2/2 [==============================] - 0s 44ms/step - loss: 0.6319 - accuracy: 0.6667 - val_loss: 0.7366 - val_accuracy: 0.4286\n",
            "Epoch 8/150\n",
            "2/2 [==============================] - 0s 37ms/step - loss: 0.6322 - accuracy: 0.6667 - val_loss: 0.7388 - val_accuracy: 0.4286\n",
            "Epoch 9/150\n",
            "2/2 [==============================] - 0s 36ms/step - loss: 0.6320 - accuracy: 0.6667 - val_loss: 0.7404 - val_accuracy: 0.4286\n",
            "Epoch 10/150\n",
            "2/2 [==============================] - 0s 36ms/step - loss: 0.6316 - accuracy: 0.6667 - val_loss: 0.7417 - val_accuracy: 0.4286\n",
            "Epoch 11/150\n",
            "2/2 [==============================] - 0s 42ms/step - loss: 0.6317 - accuracy: 0.6667 - val_loss: 0.7431 - val_accuracy: 0.4286\n",
            "Epoch 12/150\n",
            "2/2 [==============================] - 0s 42ms/step - loss: 0.6315 - accuracy: 0.6667 - val_loss: 0.7438 - val_accuracy: 0.4286\n",
            "Epoch 13/150\n",
            "2/2 [==============================] - 0s 38ms/step - loss: 0.6313 - accuracy: 0.6667 - val_loss: 0.7445 - val_accuracy: 0.4286\n",
            "Epoch 14/150\n",
            "2/2 [==============================] - 0s 40ms/step - loss: 0.6312 - accuracy: 0.6667 - val_loss: 0.7457 - val_accuracy: 0.4286\n",
            "Epoch 15/150\n",
            "2/2 [==============================] - 0s 40ms/step - loss: 0.6310 - accuracy: 0.6667 - val_loss: 0.7474 - val_accuracy: 0.4286\n",
            "Epoch 16/150\n",
            "2/2 [==============================] - 0s 41ms/step - loss: 0.6313 - accuracy: 0.6667 - val_loss: 0.7490 - val_accuracy: 0.4286\n",
            "Epoch 17/150\n",
            "2/2 [==============================] - 0s 42ms/step - loss: 0.6310 - accuracy: 0.6667 - val_loss: 0.7503 - val_accuracy: 0.4286\n",
            "Epoch 18/150\n",
            "2/2 [==============================] - 0s 206ms/step - loss: 0.6312 - accuracy: 0.6667 - val_loss: 0.7517 - val_accuracy: 0.4286\n",
            "Epoch 19/150\n",
            "2/2 [==============================] - 0s 44ms/step - loss: 0.6309 - accuracy: 0.6667 - val_loss: 0.7527 - val_accuracy: 0.4286\n",
            "Epoch 20/150\n",
            "2/2 [==============================] - 0s 48ms/step - loss: 0.6311 - accuracy: 0.6667 - val_loss: 0.7538 - val_accuracy: 0.4286\n",
            "Epoch 21/150\n",
            "2/2 [==============================] - 0s 41ms/step - loss: 0.6310 - accuracy: 0.6667 - val_loss: 0.7543 - val_accuracy: 0.4286\n",
            "Epoch 22/150\n",
            "2/2 [==============================] - 0s 42ms/step - loss: 0.6309 - accuracy: 0.6667 - val_loss: 0.7546 - val_accuracy: 0.4286\n",
            "Epoch 23/150\n",
            "2/2 [==============================] - 0s 43ms/step - loss: 0.6308 - accuracy: 0.6667 - val_loss: 0.7555 - val_accuracy: 0.4286\n",
            "Epoch 24/150\n",
            "2/2 [==============================] - 0s 42ms/step - loss: 0.6307 - accuracy: 0.6667 - val_loss: 0.7569 - val_accuracy: 0.4286\n",
            "Epoch 25/150\n",
            "2/2 [==============================] - 0s 45ms/step - loss: 0.6307 - accuracy: 0.6667 - val_loss: 0.7587 - val_accuracy: 0.4286\n",
            "Epoch 26/150\n",
            "2/2 [==============================] - 0s 42ms/step - loss: 0.6311 - accuracy: 0.6667 - val_loss: 0.7604 - val_accuracy: 0.4286\n",
            "Epoch 27/150\n",
            "2/2 [==============================] - 0s 40ms/step - loss: 0.6311 - accuracy: 0.6667 - val_loss: 0.7612 - val_accuracy: 0.4286\n",
            "Epoch 28/150\n",
            "2/2 [==============================] - 0s 41ms/step - loss: 0.6311 - accuracy: 0.6667 - val_loss: 0.7613 - val_accuracy: 0.4286\n",
            "Epoch 29/150\n",
            "2/2 [==============================] - 0s 45ms/step - loss: 0.6309 - accuracy: 0.6667 - val_loss: 0.7608 - val_accuracy: 0.4286\n",
            "Epoch 30/150\n",
            "2/2 [==============================] - 0s 43ms/step - loss: 0.6308 - accuracy: 0.6667 - val_loss: 0.7598 - val_accuracy: 0.4286\n",
            "Epoch 31/150\n",
            "2/2 [==============================] - 0s 41ms/step - loss: 0.6308 - accuracy: 0.6667 - val_loss: 0.7589 - val_accuracy: 0.4286\n",
            "Epoch 32/150\n",
            "2/2 [==============================] - 0s 41ms/step - loss: 0.6305 - accuracy: 0.6667 - val_loss: 0.7589 - val_accuracy: 0.4286\n",
            "Epoch 33/150\n",
            "2/2 [==============================] - 0s 42ms/step - loss: 0.6304 - accuracy: 0.6667 - val_loss: 0.7591 - val_accuracy: 0.4286\n",
            "Epoch 34/150\n",
            "2/2 [==============================] - 0s 43ms/step - loss: 0.6303 - accuracy: 0.6667 - val_loss: 0.7586 - val_accuracy: 0.4286\n",
            "Epoch 35/150\n",
            "2/2 [==============================] - 0s 40ms/step - loss: 0.6303 - accuracy: 0.6667 - val_loss: 0.7582 - val_accuracy: 0.4286\n",
            "Epoch 36/150\n",
            "2/2 [==============================] - 0s 46ms/step - loss: 0.6301 - accuracy: 0.6667 - val_loss: 0.7580 - val_accuracy: 0.4286\n",
            "Epoch 37/150\n",
            "2/2 [==============================] - 0s 45ms/step - loss: 0.6299 - accuracy: 0.6667 - val_loss: 0.7573 - val_accuracy: 0.4286\n",
            "Epoch 38/150\n",
            "2/2 [==============================] - 0s 39ms/step - loss: 0.6299 - accuracy: 0.6667 - val_loss: 0.7567 - val_accuracy: 0.4286\n",
            "Epoch 39/150\n",
            "2/2 [==============================] - 0s 44ms/step - loss: 0.6297 - accuracy: 0.6667 - val_loss: 0.7568 - val_accuracy: 0.4286\n",
            "Epoch 40/150\n",
            "2/2 [==============================] - 0s 46ms/step - loss: 0.6295 - accuracy: 0.6667 - val_loss: 0.7576 - val_accuracy: 0.4286\n",
            "Epoch 41/150\n",
            "2/2 [==============================] - 0s 49ms/step - loss: 0.6297 - accuracy: 0.6667 - val_loss: 0.7584 - val_accuracy: 0.4286\n",
            "Epoch 42/150\n",
            "2/2 [==============================] - 0s 44ms/step - loss: 0.6298 - accuracy: 0.6667 - val_loss: 0.7579 - val_accuracy: 0.4286\n",
            "Epoch 43/150\n",
            "2/2 [==============================] - 0s 39ms/step - loss: 0.6296 - accuracy: 0.6667 - val_loss: 0.7567 - val_accuracy: 0.4286\n",
            "Epoch 44/150\n",
            "2/2 [==============================] - 0s 45ms/step - loss: 0.6293 - accuracy: 0.6667 - val_loss: 0.7564 - val_accuracy: 0.4286\n",
            "Epoch 45/150\n",
            "2/2 [==============================] - 0s 48ms/step - loss: 0.6292 - accuracy: 0.6667 - val_loss: 0.7563 - val_accuracy: 0.4286\n",
            "Epoch 46/150\n",
            "2/2 [==============================] - 0s 44ms/step - loss: 0.6290 - accuracy: 0.6667 - val_loss: 0.7556 - val_accuracy: 0.4286\n",
            "Epoch 47/150\n",
            "2/2 [==============================] - 0s 40ms/step - loss: 0.6290 - accuracy: 0.6667 - val_loss: 0.7550 - val_accuracy: 0.4286\n",
            "Epoch 48/150\n",
            "2/2 [==============================] - 0s 42ms/step - loss: 0.6288 - accuracy: 0.6667 - val_loss: 0.7547 - val_accuracy: 0.4286\n",
            "Epoch 49/150\n",
            "2/2 [==============================] - 0s 46ms/step - loss: 0.6287 - accuracy: 0.6667 - val_loss: 0.7544 - val_accuracy: 0.4286\n",
            "Epoch 50/150\n",
            "2/2 [==============================] - 0s 44ms/step - loss: 0.6286 - accuracy: 0.6667 - val_loss: 0.7543 - val_accuracy: 0.4286\n",
            "Epoch 51/150\n",
            "2/2 [==============================] - 0s 48ms/step - loss: 0.6285 - accuracy: 0.6667 - val_loss: 0.7542 - val_accuracy: 0.4286\n",
            "Epoch 52/150\n",
            "2/2 [==============================] - 0s 45ms/step - loss: 0.6283 - accuracy: 0.6667 - val_loss: 0.7548 - val_accuracy: 0.4286\n",
            "Epoch 53/150\n",
            "2/2 [==============================] - 0s 42ms/step - loss: 0.6282 - accuracy: 0.6667 - val_loss: 0.7559 - val_accuracy: 0.4286\n",
            "Epoch 54/150\n",
            "2/2 [==============================] - 0s 42ms/step - loss: 0.6282 - accuracy: 0.6667 - val_loss: 0.7575 - val_accuracy: 0.4286\n",
            "Epoch 55/150\n",
            "2/2 [==============================] - 0s 45ms/step - loss: 0.6283 - accuracy: 0.6667 - val_loss: 0.7595 - val_accuracy: 0.4286\n",
            "Epoch 56/150\n",
            "2/2 [==============================] - 0s 39ms/step - loss: 0.6284 - accuracy: 0.6667 - val_loss: 0.7619 - val_accuracy: 0.4286\n",
            "Epoch 57/150\n",
            "2/2 [==============================] - 0s 44ms/step - loss: 0.6290 - accuracy: 0.6667 - val_loss: 0.7639 - val_accuracy: 0.4286\n",
            "Epoch 58/150\n",
            "2/2 [==============================] - 0s 42ms/step - loss: 0.6291 - accuracy: 0.6667 - val_loss: 0.7649 - val_accuracy: 0.4286\n",
            "Epoch 59/150\n",
            "2/2 [==============================] - 0s 42ms/step - loss: 0.6290 - accuracy: 0.6667 - val_loss: 0.7655 - val_accuracy: 0.4286\n",
            "Epoch 60/150\n",
            "2/2 [==============================] - 0s 39ms/step - loss: 0.6290 - accuracy: 0.6667 - val_loss: 0.7668 - val_accuracy: 0.4286\n",
            "Epoch 61/150\n",
            "2/2 [==============================] - 0s 45ms/step - loss: 0.6293 - accuracy: 0.6667 - val_loss: 0.7678 - val_accuracy: 0.4286\n",
            "Epoch 62/150\n",
            "2/2 [==============================] - 0s 39ms/step - loss: 0.6292 - accuracy: 0.6667 - val_loss: 0.7685 - val_accuracy: 0.4286\n",
            "Epoch 63/150\n",
            "2/2 [==============================] - 0s 40ms/step - loss: 0.6292 - accuracy: 0.6667 - val_loss: 0.7698 - val_accuracy: 0.4286\n",
            "Epoch 64/150\n",
            "2/2 [==============================] - 0s 41ms/step - loss: 0.6293 - accuracy: 0.6667 - val_loss: 0.7715 - val_accuracy: 0.4286\n",
            "Epoch 65/150\n",
            "2/2 [==============================] - 0s 44ms/step - loss: 0.6298 - accuracy: 0.6667 - val_loss: 0.7730 - val_accuracy: 0.4286\n",
            "Epoch 66/150\n",
            "2/2 [==============================] - 0s 47ms/step - loss: 0.6298 - accuracy: 0.6667 - val_loss: 0.7734 - val_accuracy: 0.4286\n",
            "Epoch 67/150\n",
            "2/2 [==============================] - 0s 41ms/step - loss: 0.6298 - accuracy: 0.6667 - val_loss: 0.7735 - val_accuracy: 0.4286\n",
            "Epoch 68/150\n",
            "2/2 [==============================] - 0s 44ms/step - loss: 0.6297 - accuracy: 0.6667 - val_loss: 0.7743 - val_accuracy: 0.4286\n",
            "Epoch 69/150\n",
            "2/2 [==============================] - 0s 47ms/step - loss: 0.6297 - accuracy: 0.6667 - val_loss: 0.7756 - val_accuracy: 0.4286\n",
            "Epoch 70/150\n",
            "2/2 [==============================] - 0s 50ms/step - loss: 0.6298 - accuracy: 0.6667 - val_loss: 0.7773 - val_accuracy: 0.4286\n",
            "Epoch 71/150\n",
            "2/2 [==============================] - 0s 42ms/step - loss: 0.6303 - accuracy: 0.6667 - val_loss: 0.7787 - val_accuracy: 0.4286\n",
            "Epoch 72/150\n",
            "2/2 [==============================] - 0s 39ms/step - loss: 0.6304 - accuracy: 0.6667 - val_loss: 0.7789 - val_accuracy: 0.4286\n",
            "Epoch 73/150\n",
            "2/2 [==============================] - 0s 43ms/step - loss: 0.6304 - accuracy: 0.6667 - val_loss: 0.7788 - val_accuracy: 0.4286\n",
            "Epoch 74/150\n",
            "2/2 [==============================] - 0s 39ms/step - loss: 0.6302 - accuracy: 0.6667 - val_loss: 0.7794 - val_accuracy: 0.4286\n",
            "Epoch 75/150\n",
            "2/2 [==============================] - 0s 47ms/step - loss: 0.6304 - accuracy: 0.6667 - val_loss: 0.7799 - val_accuracy: 0.4286\n",
            "Epoch 76/150\n",
            "2/2 [==============================] - 0s 45ms/step - loss: 0.6303 - accuracy: 0.6667 - val_loss: 0.7800 - val_accuracy: 0.4286\n",
            "Epoch 77/150\n",
            "2/2 [==============================] - 0s 51ms/step - loss: 0.6305 - accuracy: 0.6667 - val_loss: 0.7795 - val_accuracy: 0.4286\n",
            "Epoch 78/150\n",
            "2/2 [==============================] - 0s 42ms/step - loss: 0.6303 - accuracy: 0.6667 - val_loss: 0.7779 - val_accuracy: 0.4286\n",
            "Epoch 79/150\n",
            "2/2 [==============================] - 0s 38ms/step - loss: 0.6296 - accuracy: 0.6667 - val_loss: 0.7760 - val_accuracy: 0.4286\n",
            "Epoch 80/150\n",
            "2/2 [==============================] - 0s 38ms/step - loss: 0.6291 - accuracy: 0.6667 - val_loss: 0.7727 - val_accuracy: 0.4286\n",
            "Epoch 81/150\n",
            "2/2 [==============================] - 0s 44ms/step - loss: 0.6290 - accuracy: 0.6667 - val_loss: 0.7698 - val_accuracy: 0.4286\n",
            "Epoch 82/150\n",
            "2/2 [==============================] - 0s 50ms/step - loss: 0.6280 - accuracy: 0.6667 - val_loss: 0.7675 - val_accuracy: 0.4286\n",
            "Epoch 83/150\n",
            "2/2 [==============================] - 0s 46ms/step - loss: 0.6276 - accuracy: 0.6667 - val_loss: 0.7649 - val_accuracy: 0.4286\n",
            "Epoch 84/150\n",
            "2/2 [==============================] - 0s 48ms/step - loss: 0.6276 - accuracy: 0.6667 - val_loss: 0.7627 - val_accuracy: 0.4286\n",
            "Epoch 85/150\n",
            "2/2 [==============================] - 0s 47ms/step - loss: 0.6271 - accuracy: 0.6667 - val_loss: 0.7616 - val_accuracy: 0.4286\n",
            "Epoch 86/150\n",
            "2/2 [==============================] - 0s 44ms/step - loss: 0.6267 - accuracy: 0.6667 - val_loss: 0.7608 - val_accuracy: 0.4286\n",
            "Epoch 87/150\n",
            "2/2 [==============================] - 0s 41ms/step - loss: 0.6265 - accuracy: 0.6667 - val_loss: 0.7595 - val_accuracy: 0.4286\n",
            "Epoch 88/150\n",
            "2/2 [==============================] - 0s 41ms/step - loss: 0.6261 - accuracy: 0.6667 - val_loss: 0.7571 - val_accuracy: 0.4286\n",
            "Epoch 89/150\n",
            "2/2 [==============================] - 0s 45ms/step - loss: 0.6259 - accuracy: 0.6667 - val_loss: 0.7537 - val_accuracy: 0.4286\n",
            "Epoch 90/150\n",
            "1/2 [==============>...............] - ETA: 0s - loss: 0.6810 - accuracy: 0.6000"
          ],
          "name": "stdout"
        }
      ]
    },
    {
      "cell_type": "code",
      "metadata": {
        "colab": {
          "base_uri": "https://localhost:8080/"
        },
        "id": "1uK3FjLpSiTr",
        "outputId": "6d981d49-14cb-4da7-ace7-960072d51192"
      },
      "source": [
        "accuracy = model.evaluate(x_train,y_train)\r\n",
        "print('training accuracy is:'),accuracy[1]"
      ],
      "execution_count": null,
      "outputs": [
        {
          "output_type": "stream",
          "text": [
            "1/1 [==============================] - 0s 15ms/step - loss: 0.2820 - accuracy: 0.9167\n",
            "training accuracy is:\n"
          ],
          "name": "stdout"
        },
        {
          "output_type": "execute_result",
          "data": {
            "text/plain": [
              "(None, 0.9166666865348816)"
            ]
          },
          "metadata": {
            "tags": []
          },
          "execution_count": 23
        }
      ]
    },
    {
      "cell_type": "code",
      "metadata": {
        "colab": {
          "base_uri": "https://localhost:8080/"
        },
        "id": "O03pWnzDkaR5",
        "outputId": "2973eaa3-be36-4c3d-fcfa-dd036298769c"
      },
      "source": [
        "accuracy = model.evaluate(x_test,y_test)\r\n",
        "print('testingg accuracy is:'),accuracy[1]"
      ],
      "execution_count": null,
      "outputs": [
        {
          "output_type": "stream",
          "text": [
            "1/1 [==============================] - 0s 15ms/step - loss: 0.3453 - accuracy: 0.8571\n",
            "testingg accuracy is:\n"
          ],
          "name": "stdout"
        },
        {
          "output_type": "execute_result",
          "data": {
            "text/plain": [
              "(None, 0.8571428656578064)"
            ]
          },
          "metadata": {
            "tags": []
          },
          "execution_count": 24
        }
      ]
    },
    {
      "cell_type": "code",
      "metadata": {
        "colab": {
          "base_uri": "https://localhost:8080/"
        },
        "id": "x0X3nhQehsc9",
        "outputId": "4fa70be0-d94d-4e03-b2f4-000c68def65a"
      },
      "source": [
        "#4---GradeA\r\n",
        "#3---GradeB\r\n",
        "#2---GradeC\r\n",
        "#1---GradeD\r\n",
        "input=([[2,2,2,3,3,2,2]])\r\n",
        "inte=model.predict(input)\r\n",
        "inte.astype(float)"
      ],
      "execution_count": null,
      "outputs": [
        {
          "output_type": "execute_result",
          "data": {
            "text/plain": [
              "array([[0.73834217]])"
            ]
          },
          "metadata": {
            "tags": []
          },
          "execution_count": 30
        }
      ]
    },
    {
      "cell_type": "code",
      "metadata": {
        "id": "b6L7aVGyi4F8"
      },
      "source": [
        "#Approximate Values\r\n",
        "#0.82523918---->for grade A\r\n",
        "#0.92044532---->for grade B\r\n",
        "#0.63044858---->for grade C\r\n",
        "#0.35436806---->for grade D\r\n",
        "\r\n"
      ],
      "execution_count": null,
      "outputs": []
    }
  ]
}